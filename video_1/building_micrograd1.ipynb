{
 "cells": [
  {
   "cell_type": "code",
   "execution_count": 3,
   "id": "b77aff42",
   "metadata": {},
   "outputs": [
    {
     "name": "stdout",
     "output_type": "stream",
     "text": [
      "2.6.0+cpu\n",
      "False\n"
     ]
    }
   ],
   "source": [
    "import torch\n",
    "print(torch.__version__)\n",
    "print(torch.cuda.is_available())\n"
   ]
  },
  {
   "cell_type": "code",
   "execution_count": 4,
   "id": "2eccc0b9",
   "metadata": {},
   "outputs": [],
   "source": [
    "import math\n",
    "import numpy as np \n",
    "import matplotlib.pyplot as plt\n",
    "%matplotlib inline"
   ]
  },
  {
   "cell_type": "code",
   "execution_count": 12,
   "id": "28b1b544",
   "metadata": {},
   "outputs": [],
   "source": [
    "def f(x):\n",
    "    print(\"f(x) called with x =\", x)\n",
    "    return 3*x**2 + 2*x + 1"
   ]
  },
  {
   "cell_type": "code",
   "execution_count": 13,
   "id": "f785f115",
   "metadata": {},
   "outputs": [
    {
     "name": "stdout",
     "output_type": "stream",
     "text": [
      "f(x) called with x = 3.0\n"
     ]
    },
    {
     "data": {
      "text/plain": [
       "34.0"
      ]
     },
     "execution_count": 13,
     "metadata": {},
     "output_type": "execute_result"
    }
   ],
   "source": [
    "f(3.0)"
   ]
  },
  {
   "cell_type": "code",
   "execution_count": 14,
   "id": "bd5ec52d",
   "metadata": {},
   "outputs": [
    {
     "name": "stdout",
     "output_type": "stream",
     "text": [
      "f(x) called with x = [-5.   -4.75 -4.5  -4.25 -4.   -3.75 -3.5  -3.25 -3.   -2.75 -2.5  -2.25\n",
      " -2.   -1.75 -1.5  -1.25 -1.   -0.75 -0.5  -0.25  0.    0.25  0.5   0.75\n",
      "  1.    1.25  1.5   1.75  2.    2.25  2.5   2.75  3.    3.25  3.5   3.75\n",
      "  4.    4.25  4.5   4.75]\n"
     ]
    },
    {
     "data": {
      "text/plain": [
       "[<matplotlib.lines.Line2D at 0x7a9497c14ec0>]"
      ]
     },
     "execution_count": 14,
     "metadata": {},
     "output_type": "execute_result"
    },
    {
     "data": {
      "image/png": "[encoded data removed]",
      "text/plain": [
       "<Figure size 640x480 with 1 Axes>"
      ]
     },
     "metadata": {},
     "output_type": "display_data"
    }
   ],
   "source": [
    "xs= np.arange(-5, 5, 0.25)\n",
    "ys = f(xs)\n",
    "plt.plot(xs, ys)"
   ]
  },
  {
   "cell_type": "code",
   "execution_count": 24,
   "id": "e31678af",
   "metadata": {},
   "outputs": [
    {
     "name": "stdout",
     "output_type": "stream",
     "text": [
      "f(x) called with x = -0.499999999\n",
      "f(x) called with x = -0.5\n"
     ]
    },
    {
     "data": {
      "text/plain": [
       "-0.9999999717180684"
      ]
     },
     "execution_count": 24,
     "metadata": {},
     "output_type": "execute_result"
    }
   ],
   "source": [
    "h = 0.000000001\n",
    "x= -0.5\n",
    "(f(x+h)-f(x))/h  # numerical derivative at x=-3.0"
   ]
  },
  {
   "cell_type": "code",
   "execution_count": 25,
   "id": "1aa8e761",
   "metadata": {},
   "outputs": [
    {
     "name": "stdout",
     "output_type": "stream",
     "text": [
      "d = 7.0\n"
     ]
    }
   ],
   "source": [
    "a = 3.0\n",
    "b = 2.0\n",
    "c = 1.0\n",
    "d = a*b + c\n",
    "print(\"d =\", d)"
   ]
  },
  {
   "cell_type": "code",
   "execution_count": 26,
   "id": "4e25f354",
   "metadata": {},
   "outputs": [
    {
     "name": "stdout",
     "output_type": "stream",
     "text": [
      "d1 = 7.0\n",
      "d2 = 7.000000002\n",
      "d2 - d1 = 2.000000165480742e-09\n",
      "d2 - d1 / h = 2.000000165480742\n"
     ]
    }
   ],
   "source": [
    "h=0.000000001\n",
    "a = 3.0\n",
    "b = 2.0\n",
    "c = 1.0\n",
    "\n",
    "d1 = a*b + c\n",
    "\n",
    "a+=h\n",
    "d2 = a*b + c\n",
    "\n",
    "print(\"d1 =\", d1)\n",
    "print(\"d2 =\", d2)\n",
    "print(\"d2 - d1 =\", d2 - d1)\n",
    "print(\"d2 - d1 / h =\", (d2 - d1) / h)"
   ]
  },
  {
   "cell_type": "code",
   "execution_count": 27,
   "id": "947c11ca",
   "metadata": {},
   "outputs": [
    {
     "name": "stdout",
     "output_type": "stream",
     "text": [
      "d1 = 7.0\n",
      "d2 = 7.000000003\n",
      "d2 - d1 = 3.000000248221113e-09\n",
      "d2 - d1 / h = 3.000000248221113\n"
     ]
    }
   ],
   "source": [
    "h=0.000000001\n",
    "a = 3.0\n",
    "b = 2.0\n",
    "c = 1.0\n",
    "\n",
    "d1 = a*b + c\n",
    "\n",
    "b+=h\n",
    "d2 = a*b + c\n",
    "\n",
    "print(\"d1 =\", d1)\n",
    "print(\"d2 =\", d2)\n",
    "print(\"d2 - d1 =\", d2 - d1)\n",
    "print(\"d2 - d1 / h =\", (d2 - d1) / h)"
   ]
  },
  {
   "cell_type": "code",
   "execution_count": null,
   "id": "f01f893e",
   "metadata": {},
   "outputs": [
    {
     "name": "stdout",
     "output_type": "stream",
     "text": [
      "d1 = 7.0\n",
      "d2 = 7.000000001\n",
      "d2 - d1 = 1.000000082740371e-09\n",
      "d2 - d1 / h = 1.000000082740371\n"
     ]
    }
   ],
   "source": [
    "h=0.000000001\n",
    "a = 3.0\n",
    "b = 2.0\n",
    "c = 1.0\n",
    "\n",
    "d1 = a*b + c\n",
    "\n",
    "c+=h # derivative with respect to c\n",
    "d2 = a*b + c\n",
    "\n",
    "print(\"d1 =\", d1)\n",
    "print(\"d2 =\", d2)\n",
    "print(\"d2 - d1 =\", d2 - d1)\n",
    "print(\"d2 - d1 / h =\", (d2 - d1) / h)\n"
   ]
  },
  {
   "cell_type": "code",
   "execution_count": null,
   "id": "31ba05f7",
   "metadata": {},
   "outputs": [
    {
     "name": "stdout",
     "output_type": "stream",
     "text": [
      "L = Value(1.4000000000000001)\n"
     ]
    }
   ],
   "source": [
    "class Value:\n",
    "    def __init__(self,data,_children=(),_op='',label = ''):\n",
    "        self.data = data\n",
    "        self._prev = set(_children)  # previous nodes in the computation graph\n",
    "        self._op = _op # operation that produced this value\n",
    "        self.label = label\n",
    "        self.grad = 0.0  # gradient, not used in this example but can be useful for backpropagation\n",
    "    def __repr__(self):\n",
    "        return f\"Value({self.data})\"\n",
    "    def __add__(self, other):\n",
    "        return Value(self.data + other.data, (self, other),'+') # the children of d are self a and other which is b\n",
    "    def __mul__(self, other):\n",
    "        return Value(self.data * other.data, (self, other),'*') # \n",
    "    \n",
    "\n",
    "a= Value(3.0, label='a') # create a Value object for a\n",
    "b= Value(2.0, label='b') # create a Value object for b\n",
    "c= Value(1.0, label='c') # create a Value object for c\n",
    "\n",
    "# d= a+b # a.__add__(b) should be called\n",
    "# a*b # a.__mul__(b) should be called\n",
    "# d=a*b +c # (a.__mul__(b)).__add__(c) should be called\n",
    "# type(d),d._prev,d._op\n",
    "\n",
    "\n",
    "e= a * b  # this will call the __add__ and __mul__ methods of the Value class\n",
    "e.label = 'e'  # label the result\n",
    "d = e + c  # this will call the __add__ method of the Value class\n",
    "d.label = 'd'  # label the result\n",
    "f=Value(0.2,  label = 'f')\n",
    "L=  d * f\n",
    "L.label = 'L'  # label the loss  \n",
    "# print(\"d =\", d)\n",
    "print(\"L =\", L)\n"
   ]
  },
  {
   "cell_type": "code",
   "execution_count": 40,
   "id": "24abe651",
   "metadata": {},
   "outputs": [],
   "source": [
    "from graphviz import Digraph\n",
    "\n",
    "def trace(root):\n",
    "  # builds a set of all nodes and edges in a graph\n",
    "  nodes, edges = set(), set()\n",
    "  def build(v):\n",
    "    if v not in nodes:\n",
    "      nodes.add(v)\n",
    "      for child in v._prev:\n",
    "        edges.add((child, v))\n",
    "        build(child)\n",
    "  build(root)\n",
    "  return nodes, edges\n",
    "\n",
    "def draw_dot(root):\n",
    "  dot = Digraph(format='svg', graph_attr={'rankdir': 'LR'}) # LR = left to right\n",
    "  \n",
    "  nodes, edges = trace(root)\n",
    "  for n in nodes:\n",
    "    uid = str(id(n))\n",
    "    # for any value in the graph, create a rectangular ('record') node for it\n",
    "    dot.node(name = uid, label = \"{ %s | data %.4f | grad %.4f }\" % (n.label, n.data, n.grad), shape='record')\n",
    "    if n._op:\n",
    "      # if this value is a result of some operation, create an op node for it\n",
    "      dot.node(name = uid + n._op, label = n._op)\n",
    "      # and connect this node to it\n",
    "      dot.edge(uid + n._op, uid)\n",
    "\n",
    "  for n1, n2 in edges:\n",
    "    # connect n1 to the op node of n2\n",
    "    dot.edge(str(id(n1)), str(id(n2)) + n2._op)\n",
    "\n",
    "  return dot"
   ]
  },
  {
   "cell_type": "code",
   "execution_count": 77,
   "id": "ad5b8c0f",
   "metadata": {},
   "outputs": [
    {
     "data": {
      "image/svg+xml": [
       "<?xml version=\"1.0\" encoding=\"UTF-8\" standalone=\"no\"?>\n",
       "<!DOCTYPE svg PUBLIC \"-//W3C//DTD SVG 1.1//EN\"\n",
       " \"http://www.w3.org/Graphics/SVG/1.1/DTD/svg11.dtd\">\n",
       "<!-- Generated by graphviz version 2.43.0 (0)\n",
       " -->\n",
       "<!-- Title: %3 Pages: 1 -->\n",
       "<svg width=\"1308pt\" height=\"154pt\"\n",
       " viewBox=\"0.00 0.00 1308.00 154.00\" xmlns=\"http://www.w3.org/2000/svg\" xmlns:xlink=\"http://www.w3.org/1999/xlink\">\n",
       "<g id=\"graph0\" class=\"graph\" transform=\"scale(1 1) rotate(0) translate(4 150)\">\n",
       "<title>%3</title>\n",
       "<polygon fill=\"white\" stroke=\"transparent\" points=\"-4,4 -4,-150 1304,-150 1304,4 -4,4\"/>\n",
       "<!-- 128730629503024 -->\n",
       "<g id=\"node1\" class=\"node\">\n",
       "<title>128730629503024</title>\n",
       "<polygon fill=\"none\" stroke=\"black\" points=\"358,-27.5 358,-63.5 589,-63.5 589,-27.5 358,-27.5\"/>\n",
       "<text text-anchor=\"middle\" x=\"370.5\" y=\"-41.8\" font-family=\"Times,serif\" font-size=\"14.00\">e</text>\n",
       "<polyline fill=\"none\" stroke=\"black\" points=\"383,-27.5 383,-63.5 \"/>\n",
       "<text text-anchor=\"middle\" x=\"434\" y=\"-41.8\" font-family=\"Times,serif\" font-size=\"14.00\">data 6.0000</text>\n",
       "<polyline fill=\"none\" stroke=\"black\" points=\"485,-27.5 485,-63.5 \"/>\n",
       "<text text-anchor=\"middle\" x=\"537\" y=\"-41.8\" font-family=\"Times,serif\" font-size=\"14.00\">grad 0.2000</text>\n",
       "</g>\n",
       "<!-- 128730629499376+ -->\n",
       "<g id=\"node10\" class=\"node\">\n",
       "<title>128730629499376+</title>\n",
       "<ellipse fill=\"none\" stroke=\"black\" cx=\"652\" cy=\"-72.5\" rx=\"27\" ry=\"18\"/>\n",
       "<text text-anchor=\"middle\" x=\"652\" y=\"-68.8\" font-family=\"Times,serif\" font-size=\"14.00\">+</text>\n",
       "</g>\n",
       "<!-- 128730629503024&#45;&gt;128730629499376+ -->\n",
       "<g id=\"edge6\" class=\"edge\">\n",
       "<title>128730629503024&#45;&gt;128730629499376+</title>\n",
       "<path fill=\"none\" stroke=\"black\" d=\"M589.27,-63.06C598.61,-64.49 607.51,-65.85 615.5,-67.07\"/>\n",
       "<polygon fill=\"black\" stroke=\"black\" points=\"615.03,-70.54 625.44,-68.59 616.09,-63.62 615.03,-70.54\"/>\n",
       "</g>\n",
       "<!-- 128730629503024* -->\n",
       "<g id=\"node2\" class=\"node\">\n",
       "<title>128730629503024*</title>\n",
       "<ellipse fill=\"none\" stroke=\"black\" cx=\"295\" cy=\"-45.5\" rx=\"27\" ry=\"18\"/>\n",
       "<text text-anchor=\"middle\" x=\"295\" y=\"-41.8\" font-family=\"Times,serif\" font-size=\"14.00\">*</text>\n",
       "</g>\n",
       "<!-- 128730629503024*&#45;&gt;128730629503024 -->\n",
       "<g id=\"edge1\" class=\"edge\">\n",
       "<title>128730629503024*&#45;&gt;128730629503024</title>\n",
       "<path fill=\"none\" stroke=\"black\" d=\"M322.04,-45.5C329.59,-45.5 338.37,-45.5 347.82,-45.5\"/>\n",
       "<polygon fill=\"black\" stroke=\"black\" points=\"347.89,-49 357.89,-45.5 347.89,-42 347.89,-49\"/>\n",
       "</g>\n",
       "<!-- 128731045163184 -->\n",
       "<g id=\"node3\" class=\"node\">\n",
       "<title>128731045163184</title>\n",
       "<polygon fill=\"none\" stroke=\"black\" points=\"0,-55.5 0,-91.5 232,-91.5 232,-55.5 0,-55.5\"/>\n",
       "<text text-anchor=\"middle\" x=\"13\" y=\"-69.8\" font-family=\"Times,serif\" font-size=\"14.00\">b</text>\n",
       "<polyline fill=\"none\" stroke=\"black\" points=\"26,-55.5 26,-91.5 \"/>\n",
       "<text text-anchor=\"middle\" x=\"77\" y=\"-69.8\" font-family=\"Times,serif\" font-size=\"14.00\">data 2.0000</text>\n",
       "<polyline fill=\"none\" stroke=\"black\" points=\"128,-55.5 128,-91.5 \"/>\n",
       "<text text-anchor=\"middle\" x=\"180\" y=\"-69.8\" font-family=\"Times,serif\" font-size=\"14.00\">grad 0.6000</text>\n",
       "</g>\n",
       "<!-- 128731045163184&#45;&gt;128730629503024* -->\n",
       "<g id=\"edge8\" class=\"edge\">\n",
       "<title>128731045163184&#45;&gt;128730629503024*</title>\n",
       "<path fill=\"none\" stroke=\"black\" d=\"M231.1,-55.45C240.88,-53.9 250.21,-52.43 258.54,-51.11\"/>\n",
       "<polygon fill=\"black\" stroke=\"black\" points=\"259.19,-54.55 268.52,-49.53 258.1,-47.64 259.19,-54.55\"/>\n",
       "</g>\n",
       "<!-- 128730629501296 -->\n",
       "<g id=\"node4\" class=\"node\">\n",
       "<title>128730629501296</title>\n",
       "<polygon fill=\"none\" stroke=\"black\" points=\"358.5,-82.5 358.5,-118.5 588.5,-118.5 588.5,-82.5 358.5,-82.5\"/>\n",
       "<text text-anchor=\"middle\" x=\"370.5\" y=\"-96.8\" font-family=\"Times,serif\" font-size=\"14.00\">c</text>\n",
       "<polyline fill=\"none\" stroke=\"black\" points=\"382.5,-82.5 382.5,-118.5 \"/>\n",
       "<text text-anchor=\"middle\" x=\"433.5\" y=\"-96.8\" font-family=\"Times,serif\" font-size=\"14.00\">data 1.0000</text>\n",
       "<polyline fill=\"none\" stroke=\"black\" points=\"484.5,-82.5 484.5,-118.5 \"/>\n",
       "<text text-anchor=\"middle\" x=\"536.5\" y=\"-96.8\" font-family=\"Times,serif\" font-size=\"14.00\">grad 0.2000</text>\n",
       "</g>\n",
       "<!-- 128730629501296&#45;&gt;128730629499376+ -->\n",
       "<g id=\"edge7\" class=\"edge\">\n",
       "<title>128730629501296&#45;&gt;128730629499376+</title>\n",
       "<path fill=\"none\" stroke=\"black\" d=\"M588.28,-82.45C598.03,-80.9 607.33,-79.43 615.64,-78.11\"/>\n",
       "<polygon fill=\"black\" stroke=\"black\" points=\"616.27,-81.55 625.59,-76.53 615.17,-74.64 616.27,-81.55\"/>\n",
       "</g>\n",
       "<!-- 128730629466512 -->\n",
       "<g id=\"node5\" class=\"node\">\n",
       "<title>128730629466512</title>\n",
       "<polygon fill=\"none\" stroke=\"black\" points=\"0.5,-0.5 0.5,-36.5 231.5,-36.5 231.5,-0.5 0.5,-0.5\"/>\n",
       "<text text-anchor=\"middle\" x=\"13\" y=\"-14.8\" font-family=\"Times,serif\" font-size=\"14.00\">a</text>\n",
       "<polyline fill=\"none\" stroke=\"black\" points=\"25.5,-0.5 25.5,-36.5 \"/>\n",
       "<text text-anchor=\"middle\" x=\"76.5\" y=\"-14.8\" font-family=\"Times,serif\" font-size=\"14.00\">data 3.0000</text>\n",
       "<polyline fill=\"none\" stroke=\"black\" points=\"127.5,-0.5 127.5,-36.5 \"/>\n",
       "<text text-anchor=\"middle\" x=\"179.5\" y=\"-14.8\" font-family=\"Times,serif\" font-size=\"14.00\">grad 0.4000</text>\n",
       "</g>\n",
       "<!-- 128730629466512&#45;&gt;128730629503024* -->\n",
       "<g id=\"edge9\" class=\"edge\">\n",
       "<title>128730629466512&#45;&gt;128730629503024*</title>\n",
       "<path fill=\"none\" stroke=\"black\" d=\"M231.6,-35.98C241.12,-37.43 250.19,-38.82 258.33,-40.06\"/>\n",
       "<polygon fill=\"black\" stroke=\"black\" points=\"258.03,-43.55 268.44,-41.6 259.09,-36.63 258.03,-43.55\"/>\n",
       "</g>\n",
       "<!-- 128730629499328 -->\n",
       "<g id=\"node6\" class=\"node\">\n",
       "<title>128730629499328</title>\n",
       "<polygon fill=\"none\" stroke=\"black\" points=\"717,-109.5 717,-145.5 945,-145.5 945,-109.5 717,-109.5\"/>\n",
       "<text text-anchor=\"middle\" x=\"728\" y=\"-123.8\" font-family=\"Times,serif\" font-size=\"14.00\">f</text>\n",
       "<polyline fill=\"none\" stroke=\"black\" points=\"739,-109.5 739,-145.5 \"/>\n",
       "<text text-anchor=\"middle\" x=\"790\" y=\"-123.8\" font-family=\"Times,serif\" font-size=\"14.00\">data 0.2000</text>\n",
       "<polyline fill=\"none\" stroke=\"black\" points=\"841,-109.5 841,-145.5 \"/>\n",
       "<text text-anchor=\"middle\" x=\"893\" y=\"-123.8\" font-family=\"Times,serif\" font-size=\"14.00\">grad 7.0000</text>\n",
       "</g>\n",
       "<!-- 128730629424096* -->\n",
       "<g id=\"node8\" class=\"node\">\n",
       "<title>128730629424096*</title>\n",
       "<ellipse fill=\"none\" stroke=\"black\" cx=\"1010\" cy=\"-99.5\" rx=\"27\" ry=\"18\"/>\n",
       "<text text-anchor=\"middle\" x=\"1010\" y=\"-95.8\" font-family=\"Times,serif\" font-size=\"14.00\">*</text>\n",
       "</g>\n",
       "<!-- 128730629499328&#45;&gt;128730629424096* -->\n",
       "<g id=\"edge4\" class=\"edge\">\n",
       "<title>128730629499328&#45;&gt;128730629424096*</title>\n",
       "<path fill=\"none\" stroke=\"black\" d=\"M945.1,-109.61C955.21,-108.01 964.86,-106.48 973.46,-105.12\"/>\n",
       "<polygon fill=\"black\" stroke=\"black\" points=\"974.05,-108.57 983.38,-103.55 972.96,-101.66 974.05,-108.57\"/>\n",
       "</g>\n",
       "<!-- 128730629424096 -->\n",
       "<g id=\"node7\" class=\"node\">\n",
       "<title>128730629424096</title>\n",
       "<polygon fill=\"none\" stroke=\"black\" points=\"1073,-81.5 1073,-117.5 1300,-117.5 1300,-81.5 1073,-81.5\"/>\n",
       "<text text-anchor=\"middle\" x=\"1083.5\" y=\"-95.8\" font-family=\"Times,serif\" font-size=\"14.00\"> </text>\n",
       "<polyline fill=\"none\" stroke=\"black\" points=\"1094,-81.5 1094,-117.5 \"/>\n",
       "<text text-anchor=\"middle\" x=\"1145\" y=\"-95.8\" font-family=\"Times,serif\" font-size=\"14.00\">data 1.4000</text>\n",
       "<polyline fill=\"none\" stroke=\"black\" points=\"1196,-81.5 1196,-117.5 \"/>\n",
       "<text text-anchor=\"middle\" x=\"1248\" y=\"-95.8\" font-family=\"Times,serif\" font-size=\"14.00\">grad 1.0000</text>\n",
       "</g>\n",
       "<!-- 128730629424096*&#45;&gt;128730629424096 -->\n",
       "<g id=\"edge2\" class=\"edge\">\n",
       "<title>128730629424096*&#45;&gt;128730629424096</title>\n",
       "<path fill=\"none\" stroke=\"black\" d=\"M1037.12,-99.5C1044.67,-99.5 1053.45,-99.5 1062.9,-99.5\"/>\n",
       "<polygon fill=\"black\" stroke=\"black\" points=\"1062.95,-103 1072.95,-99.5 1062.95,-96 1062.95,-103\"/>\n",
       "</g>\n",
       "<!-- 128730629499376 -->\n",
       "<g id=\"node9\" class=\"node\">\n",
       "<title>128730629499376</title>\n",
       "<polygon fill=\"none\" stroke=\"black\" points=\"715,-54.5 715,-90.5 947,-90.5 947,-54.5 715,-54.5\"/>\n",
       "<text text-anchor=\"middle\" x=\"728\" y=\"-68.8\" font-family=\"Times,serif\" font-size=\"14.00\">d</text>\n",
       "<polyline fill=\"none\" stroke=\"black\" points=\"741,-54.5 741,-90.5 \"/>\n",
       "<text text-anchor=\"middle\" x=\"792\" y=\"-68.8\" font-family=\"Times,serif\" font-size=\"14.00\">data 7.0000</text>\n",
       "<polyline fill=\"none\" stroke=\"black\" points=\"843,-54.5 843,-90.5 \"/>\n",
       "<text text-anchor=\"middle\" x=\"895\" y=\"-68.8\" font-family=\"Times,serif\" font-size=\"14.00\">grad 0.2000</text>\n",
       "</g>\n",
       "<!-- 128730629499376&#45;&gt;128730629424096* -->\n",
       "<g id=\"edge5\" class=\"edge\">\n",
       "<title>128730629499376&#45;&gt;128730629424096*</title>\n",
       "<path fill=\"none\" stroke=\"black\" d=\"M947.09,-90.06C956.46,-91.49 965.39,-92.85 973.4,-94.07\"/>\n",
       "<polygon fill=\"black\" stroke=\"black\" points=\"972.96,-97.54 983.37,-95.59 974.01,-90.62 972.96,-97.54\"/>\n",
       "</g>\n",
       "<!-- 128730629499376+&#45;&gt;128730629499376 -->\n",
       "<g id=\"edge3\" class=\"edge\">\n",
       "<title>128730629499376+&#45;&gt;128730629499376</title>\n",
       "<path fill=\"none\" stroke=\"black\" d=\"M679.12,-72.5C686.53,-72.5 695.14,-72.5 704.4,-72.5\"/>\n",
       "<polygon fill=\"black\" stroke=\"black\" points=\"704.69,-76 714.69,-72.5 704.69,-69 704.69,-76\"/>\n",
       "</g>\n",
       "</g>\n",
       "</svg>\n"
      ],
      "text/plain": [
       "<graphviz.graphs.Digraph at 0x75146f7255b0>"
      ]
     },
     "execution_count": 77,
     "metadata": {},
     "output_type": "execute_result"
    }
   ],
   "source": [
    "draw_dot(L)"
   ]
  },
  {
   "cell_type": "code",
   "execution_count": 50,
   "id": "cf9e2f7c",
   "metadata": {},
   "outputs": [
    {
     "name": "stdout",
     "output_type": "stream",
     "text": [
      "dl/dd = 0.2\n",
      "d1 = 1.4000000004000002\n",
      "d2 = 1.4000000006000002\n",
      "d2 - d1 = 2.000000165480742e-10\n",
      "d2 - d1 / h = 0.2000000165480742\n",
      "dl/df = 7.000000003\n"
     ]
    }
   ],
   "source": [
    "L= d*f\n",
    "# dl/dd=?\n",
    "dl_dd = f.data  # derivative of L with respect to d\n",
    "print(\"dl/dd =\", dl_dd)\n",
    "h=0.000000001\n",
    "# derivate of L with respect to d \n",
    "d1 = d.data * f.data  # L = d*f\n",
    "d.data += h\n",
    "d2 = d.data * f.data  # L = d*f\n",
    "print(\"d1 =\", d1)\n",
    "print(\"d2 =\", d2)\n",
    "print(\"d2 - d1 =\", d2 - d1)\n",
    "print(\"d2 - d1 / h =\", (d2 - d1) / h)\n",
    "\n",
    "\n",
    "\n",
    "dl_df = d.data  # derivative of L with respect to f\n",
    "print(\"dl/df =\", dl_df)"
   ]
  },
  {
   "cell_type": "code",
   "execution_count": 60,
   "id": "7123b765",
   "metadata": {},
   "outputs": [
    {
     "name": "stdout",
     "output_type": "stream",
     "text": [
      "dd/dc = 1.0\n",
      "dl/dc = 0.2\n"
     ]
    }
   ],
   "source": [
    "# dL / dc\n",
    "# d= e + c\n",
    "#  \n",
    "dd_dc = 1.0\n",
    "print(\"dd/dc =\", dd_dc)\n",
    "dl_dc = d.grad * dd_dc  # derivative of L with respect to c dl_dc = dl/dd * dd/dc\n",
    "print(\"dl/dc =\", dl_dc)"
   ]
  },
  {
   "cell_type": "code",
   "execution_count": 73,
   "id": "47af2c18",
   "metadata": {},
   "outputs": [
    {
     "name": "stdout",
     "output_type": "stream",
     "text": [
      "dl/da = 0.4\n",
      "dl/db = 0.6000000000000001\n"
     ]
    }
   ],
   "source": [
    "# dl_da \n",
    "# dl_da = dl_de*de_da\n",
    "# e = a * b\n",
    "dl_de = e.grad\n",
    "de_da = b.data  # derivative of e with respect to a\n",
    "dl_da = dl_de * de_da  # derivative of L with respect to a\n",
    "print(\"dl/da =\", dl_da)\n",
    "\n",
    "\n",
    "# dl_db\n",
    "de_db = a.data  # derivative of e with respect to b\n",
    "dl_db = dl_de * de_db  # derivative of L with respect to b\n",
    "print(\"dl/db =\", dl_db)"
   ]
  },
  {
   "cell_type": "code",
   "execution_count": 76,
   "id": "5a6f3014",
   "metadata": {},
   "outputs": [],
   "source": [
    "L.grad = 1.0  # set the gradient of the loss to 1.0\n",
    "f.grad = L.grad * dl_df  # backpropagate the gradient to f  \n",
    "d.grad = L.grad * dl_dd  # backpropagate the gradient to d\n",
    "c.grad = dl_dc  # backpropagate the gradient to c\n",
    "e.grad = dl_dc # by symmetry, e.grad = d.grad\n",
    "a.grad =dl_da  # backpropagate the gradient to a\n",
    "b.grad = dl_db  # by symmetry, b.grad = e.grad\n",
    "\n",
    "\n"
   ]
  },
  {
   "cell_type": "code",
   "execution_count": null,
   "id": "87d6161f",
   "metadata": {},
   "outputs": [
    {
     "name": "stdout",
     "output_type": "stream",
     "text": [
      "dd/dc = 1.0\n",
      "dl/dc = 0.2\n"
     ]
    }
   ],
   "source": [
    "\n",
    "\n"
   ]
  },
  {
   "cell_type": "code",
   "execution_count": 78,
   "id": "06f996c0",
   "metadata": {},
   "outputs": [
    {
     "name": "stdout",
     "output_type": "stream",
     "text": [
      "L1 = 1.4000000000000001\n",
      "L2 = 1.4000000006000002\n",
      "L2 - L1 / h = 0.6000000496442226\n"
     ]
    }
   ],
   "source": [
    "def lol():\n",
    "    h = 0.000000001\n",
    "    \n",
    "    \n",
    "    a= Value(3.0, label='a') # create a Value object for a\n",
    "    b= Value(2.0, label='b') # create a Value object for b\n",
    "    c= Value(1.0, label='c') # create a Value object for c\n",
    "    e= a * b  # this will call the __add__ and __mul__ methods of the Value class\n",
    "    d = e + c  # this will call the __add__ method of the Value class\n",
    "    f=Value(0.2,  label = 'f')\n",
    "    L=  d * f\n",
    "    L.label = 'L'  # label the loss\n",
    "    L1 = L.data\n",
    "\n",
    "\n",
    "\n",
    "    # a= Value(3.0+h, label='a') # create a Value object for a\n",
    "    a= Value(3.0, label='a') # create a Value object for a\n",
    "    b= Value(2.0+h, label='b') # create a Value object for b\n",
    "    c= Value(1.0, label='c') # create a Value object for c\n",
    "    # c.data += h  # simulate the change in c\n",
    "    e= a * b  # this will call the __add__ and __mul__ methods of the Value class\n",
    "    # e.data += h  # simulate the change in e\n",
    "    d = e + c  # this will call the __add__ method of the Value class\n",
    "    # d.data += h  # simulate the change in a\n",
    "    f=Value(0.2,  label = 'f')\n",
    "    L=  d * f\n",
    "    L.label = 'L'  # label the loss\n",
    "    L2 = L.data\n",
    "    # L2 = L.data + h # we add h to the loss to simulate the change in a\n",
    "    print(\"L1 =\", L1)\n",
    "    print(\"L2 =\", L2)\n",
    "    # print(\"L2 - L1 =\", L2 - L1) # this should be the derivative of L with respect to a\n",
    "\n",
    "\n",
    "    # print(\"L2 - L1 / h =\", (L2 - L1) / h) # this should be the derivative of L with respect to a\n",
    "    print(\"L2 - L1 / h =\", (L2 - L1) / h) # this should be the derivative of L with respect to L will be \n",
    "\n",
    "lol()\n",
    "\n"
   ]
  },
  {
   "cell_type": "code",
   "execution_count": 80,
   "id": "46d51fb1",
   "metadata": {},
   "outputs": [],
   "source": [
    "import numpy as np"
   ]
  },
  {
   "cell_type": "code",
   "execution_count": 81,
   "id": "ece99c82",
   "metadata": {},
   "outputs": [],
   "source": [
    "# inputs x1,x2\n",
    "x1 = Value(2.0, label='x1')\n",
    "x2 = Value(0.0, label='x2')\n",
    "# weights w1,w2\n",
    "w1 = Value(-3.0, label='w1')\n",
    "w2 = Value(1.0, label='w2')\n",
    "# bias of the neuron\n",
    "b = Value(6.8813735870195432, label='b')\n",
    "# x1*w1 + x2*w2 + b\n",
    "x1w1 = x1*w1; x1w1.label = 'x1*w1'\n",
    "x2w2 = x2*w2; x2w2.label = 'x2*w2'\n",
    "x1w1x2w2 = x1w1 + x2w2; x1w1x2w2.label = 'x1*w1 + x2*w2'\n",
    "n = x1w1x2w2 + b; n.label = 'n'\n",
    "# o = n.tanh(); o.label = 'o'\"\""
   ]
  },
  {
   "cell_type": "code",
   "execution_count": null,
   "id": "bad33c07",
   "metadata": {},
   "outputs": [],
   "source": []
  }
 ],
 "metadata": {
  "kernelspec": {
   "display_name": "Python 3",
   "language": "python",
   "name": "python3"
  },
  "language_info": {
   "codemirror_mode": {
    "name": "ipython",
    "version": 3
   },
   "file_extension": ".py",
   "mimetype": "text/x-python",
   "name": "python",
   "nbconvert_exporter": "python",
   "pygments_lexer": "ipython3",
   "version": "3.12.1"
  }
 },
 "nbformat": 4,
 "nbformat_minor": 5
}
