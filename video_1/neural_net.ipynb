{
 "cells": [
  {
   "cell_type": "code",
   "execution_count": 26,
   "id": "6f99ab6b",
   "metadata": {},
   "outputs": [],
   "source": [
    "import math\n",
    "\n",
    "class Value:\n",
    "    def __init__(self, data, _children=(), _op='', label=''):\n",
    "        self.data = data\n",
    "        self.grad = 0.0\n",
    "        self._backward = lambda: None  # Placeholder until a proper backward function is set\n",
    "        self._prev = set(_children)    # References to input nodes\n",
    "        self._op = _op                 # Operation that produced this value\n",
    "        self.label = label             # Optional label for debugging or visualization\n",
    "\n",
    "    def __repr__(self):\n",
    "        return f\"Value(data={self.data})\"\n",
    "\n",
    "    def __add__(self, other):\n",
    "        other = other if isinstance(other, Value) else Value(other)\n",
    "        out = Value(self.data + other.data, (self, other), '+')\n",
    "\n",
    "        def _backward():\n",
    "            # Gradient of addition is distributed equally\n",
    "            self.grad += 1.0 * out.grad\n",
    "            other.grad += 1.0 * out.grad\n",
    "\n",
    "        out._backward = _backward\n",
    "        return out\n",
    "    def __sub__(self, other):\n",
    "        return self + (-other)  # Reuse __add__ by negating other\n",
    "    def __neg__(self):\n",
    "       return self * -1  # Negate the value\n",
    "\n",
    "    def __mul__(self, other):\n",
    "        other = other if isinstance(other, Value) else Value(other)\n",
    "        out = Value(self.data * other.data, (self, other), '*')\n",
    "\n",
    "        def _backward():\n",
    "            # d(out)/d(self) = other.data\n",
    "            # d(out)/d(other) = self.data\n",
    "            self.grad += other.data * out.grad\n",
    "            other.grad += self.data * out.grad\n",
    "\n",
    "        out._backward = _backward\n",
    "        return out\n",
    "    def __rmul__(self, other): \n",
    "        # __rmul__: Called when b * a and b doesn’t know how to multiply a\n",
    "        return self * other\n",
    "\n",
    "    # a/b \n",
    "    # a * (a/b)\n",
    "    # a * (b**-1)\n",
    "    def __pow__(self, other):\n",
    "        assert isinstance(other, (int, float)), \"Exponent must be a number\"\n",
    "        out = Value(self.data ** other, (self,), f'**{other}')\n",
    "        def _backward():\n",
    "            # Derivative of x^n is n*x^(n-1)\n",
    "            self.grad += other * (self.data ** (other - 1)) * out.grad\n",
    "        out._backward = _backward\n",
    "        return out\n",
    "\n",
    "        \n",
    "\n",
    "\n",
    "    def __truediv__(self, other):\n",
    "        return self * (other** -1)\n",
    "    \n",
    "\n",
    "    def tanh(self):\n",
    "        x = self.data\n",
    "        t = (math.exp(2 * x) - 1) / (math.exp(2 * x) + 1)  # tanh(x)\n",
    "        out = Value(t, (self,), 'tanh')\n",
    "\n",
    "        def _backward():\n",
    "            # Derivative of tanh is 1 - tanh(x)^2\n",
    "            self.grad += (1 - t**2) * out.grad\n",
    "\n",
    "        out._backward = _backward\n",
    "        return out\n",
    "\n",
    "\n",
    "    def exp(self):\n",
    "        x = self.data\n",
    "        out = Value(math.exp(x), (self,), 'exp')\n",
    "        def _backward():\n",
    "            # Derivative of exp(x) is exp(x)\n",
    "            self.grad += out.data * out.grad\n",
    "        out._backward = _backward\n",
    "        return out\n",
    "\n",
    "\n",
    "\n",
    "    def backward(self):\n",
    "        topo = []         # List of nodes in topological order\n",
    "        visited = set()\n",
    "\n",
    "        def build_topo(v):\n",
    "            if v not in visited:\n",
    "                visited.add(v)\n",
    "                for child in v._prev:\n",
    "                    build_topo(child)\n",
    "                topo.append(v)\n",
    "\n",
    "        build_topo(self)\n",
    "        self.grad = 1.0    # Seed gradient\n",
    "        for node in reversed(topo):\n",
    "            node._backward()\n"
   ]
  },
  {
   "cell_type": "code",
   "execution_count": 27,
   "id": "e59f0fa7",
   "metadata": {},
   "outputs": [
    {
     "data": {
      "text/plain": [
       "0.0"
      ]
     },
     "execution_count": 27,
     "metadata": {},
     "output_type": "execute_result"
    }
   ],
   "source": [
    "import random\n",
    "\n",
    "class Neuron : \n",
    "    def __init__ (self, nin ):\n",
    "        self.w = {Value(random.uniform(-1, 1)) for _ in range(nin)}\n",
    "        self.b = Value(random.uniform(-1, 1))\n",
    "\n",
    "\n",
    "    def __call__(self, x):\n",
    "        return 0.0\n",
    "    \n",
    "\n",
    "\n",
    "x =[2.0, 3.0, 4.0]\n",
    "n = Neuron(len(x))\n",
    "n(x)  # Call the neuron with input x, which should return a Value object"
   ]
  },
  {
   "cell_type": "code",
   "execution_count": 28,
   "id": "382b90b1",
   "metadata": {},
   "outputs": [
    {
     "name": "stdout",
     "output_type": "stream",
     "text": [
      "Value(data=-0.9984966600067113)\n"
     ]
    }
   ],
   "source": [
    "class Neuron : \n",
    "    def __init__ (self, nin ):\n",
    "        self.w = {Value(random.uniform(-1, 1)) for _ in range(nin)}\n",
    "        self.b = Value(random.uniform(-1, 1))\n",
    "\n",
    "\n",
    "    def __call__(self, x):\n",
    "        act = sum([wi * xi for wi, xi in zip(self.w, x)],self.b)  # Weighted sum of inputs plus bias\n",
    "        out = act.tanh()  # Use tanh activation function\n",
    "        return out\n",
    "\n",
    "\n",
    "# Example usage\n",
    "x = [2.0, 3.0, 4.0]\n",
    "n = Neuron(len(x))\n",
    "result = n(x)  # Call the neuron with input x, which should return a Value object\n",
    "print(result)  # Print the result of the neuron activation"
   ]
  },
  {
   "cell_type": "code",
   "execution_count": 29,
   "id": "471d5a2d",
   "metadata": {},
   "outputs": [
    {
     "name": "stdout",
     "output_type": "stream",
     "text": [
      "[Value(data=-0.4900475283970396)]\n"
     ]
    }
   ],
   "source": [
    "class Neuron : \n",
    "    def __init__ (self, nin ):\n",
    "        self.w = {Value(random.uniform(-1, 1)) for _ in range(nin)}\n",
    "        self.b = Value(random.uniform(-1, 1))\n",
    "\n",
    "\n",
    "    def __call__(self, x):\n",
    "        act = sum([wi * xi for wi, xi in zip(self.w, x)],self.b)  # Weighted sum of inputs plus bias\n",
    "        out = act.tanh()  # Use tanh activation function\n",
    "        return out\n",
    "    def parameters(self):\n",
    "        # Return a list of all parameters (weights and bias) of the neuron\n",
    "        return list(self.w) + [self.b]\n",
    "\n",
    "class Layer:\n",
    "    def __init__(self, nin, nout):\n",
    "        self.neurons = [Neuron(nin) for _ in range(nout)]\n",
    "\n",
    "    def __call__(self, x):\n",
    "        # Call each neuron with the input x and return a list of outputs\n",
    "        return [neuron(x) for neuron in self.neurons]\n",
    "    def parameters(self):\n",
    "        params = []\n",
    "        for neuron in self.neurons:\n",
    "            params.extend(neuron.parameters())\n",
    "        return params\n",
    "\n",
    "class MLP :\n",
    "    def __init__(self, nin, nouts):\n",
    "        sz = [nin] + nouts  # Input size followed by output sizes for each layer\n",
    "        self.layers = [Layer(sz[i], sz[i + 1]) for i in range(len(nouts))]\n",
    "\n",
    "    def __call__(self, x):\n",
    "        for layer in self.layers:\n",
    "            x = layer(x)  # Pass input through each layer\n",
    "        return x   \n",
    "    def parameters(self):\n",
    "        params = []\n",
    "        for layer in self.layers:\n",
    "            params.extend(layer.parameters())\n",
    "        return params\n",
    "\n",
    "\n",
    "# Example usage\n",
    "x = [2.0, 3.0, 4.0]\n",
    "n = MLP(len(x), [5,5, 3,1])  # Create a multi-layer perceptron with 5 neurons in the first layer and 3 in the second layer\n",
    "result = n(x)  # Call the MLP with input x, which should return a list of Value objects\n",
    "print(result)  # Print the result of the MLP activation"
   ]
  },
  {
   "cell_type": "code",
   "execution_count": 37,
   "id": "aac3b55c",
   "metadata": {},
   "outputs": [
    {
     "data": {
      "text/plain": [
       "[[Value(data=-0.29833922573396165)],\n",
       " [Value(data=-0.26326122706422006)],\n",
       " [Value(data=-0.2930031239133526)],\n",
       " [Value(data=-0.46337650830228616)]]"
      ]
     },
     "execution_count": 37,
     "metadata": {},
     "output_type": "execute_result"
    }
   ],
   "source": [
    "xs =[\n",
    "    [2.0, 3.0, 4.0],\n",
    "    [1.0, 2.0, 3.0],\n",
    "    [0.5, 1.5, 2.5],\n",
    "    [4.0, 5.0, 6.0]\n",
    "]\n",
    "ys = [1.0, 0.5, 0.25, 0.1]  # Target outputs for each input\n",
    "ypred = [n(x) for x in xs]# Get predictions from the MLP for each input\n",
    "ypred"
   ]
  },
  {
   "cell_type": "code",
   "execution_count": 31,
   "id": "7c6ba25e",
   "metadata": {},
   "outputs": [
    {
     "data": {
      "text/plain": [
       "Value(data=-0.4900475283970396)"
      ]
     },
     "execution_count": 31,
     "metadata": {},
     "output_type": "execute_result"
    }
   ],
   "source": [
    "ypred[0][0]"
   ]
  },
  {
   "cell_type": "code",
   "execution_count": 38,
   "id": "3f368d0b",
   "metadata": {},
   "outputs": [],
   "source": [
    "loss = [(ypred[0]-y)**2 for ypred,y in zip(ypred, ys)]\n",
    "loss=sum(loss,Value(0.0))  # Sum the losses to get a single loss value\n",
    "loss.backward()  # Backpropagate the gradients through the network"
   ]
  },
  {
   "cell_type": "code",
   "execution_count": 33,
   "id": "7b630c69",
   "metadata": {},
   "outputs": [
    {
     "data": {
      "text/plain": [
       "[Value(data=0.6595016470245281),\n",
       " Value(data=0.4979092600927775),\n",
       " Value(data=0.5178912218555374),\n",
       " Value(data=0.6722986503100894)]"
      ]
     },
     "execution_count": 33,
     "metadata": {},
     "output_type": "execute_result"
    }
   ],
   "source": [
    "n.layers[0].neurons[0].parameters()  # Get parameters of the first neuron in the first layer"
   ]
  },
  {
   "cell_type": "code",
   "execution_count": 34,
   "id": "2e179a4b",
   "metadata": {},
   "outputs": [
    {
     "data": {
      "text/plain": [
       "[Value(data=0.6595016470245281),\n",
       " Value(data=0.4979092600927775),\n",
       " Value(data=0.5178912218555374),\n",
       " Value(data=0.6722986503100894),\n",
       " Value(data=-0.5858972822637565),\n",
       " Value(data=-0.4276670690418529),\n",
       " Value(data=0.3043627137053384),\n",
       " Value(data=-0.2441026554839456),\n",
       " Value(data=0.7653989723098125),\n",
       " Value(data=-0.1655900391045113),\n",
       " Value(data=0.03500725978522379),\n",
       " Value(data=0.7298160526987942),\n",
       " Value(data=-0.9159014840053787),\n",
       " Value(data=-0.23338522694850017),\n",
       " Value(data=0.4069491345722176),\n",
       " Value(data=0.8429830964481739),\n",
       " Value(data=0.4130290198471829),\n",
       " Value(data=-0.6180900792938067),\n",
       " Value(data=0.6344932312885871),\n",
       " Value(data=0.4719747108546357)]"
      ]
     },
     "execution_count": 34,
     "metadata": {},
     "output_type": "execute_result"
    }
   ],
   "source": [
    "n.layers[0].parameters()  # Get all parameters of the first layer"
   ]
  },
  {
   "cell_type": "code",
   "execution_count": 35,
   "id": "0b4b05f0",
   "metadata": {},
   "outputs": [
    {
     "name": "stdout",
     "output_type": "stream",
     "text": [
      "0.6595016470245281 0.0015461957342308315\n",
      "0.4979092600927775 0.004038850403021917\n",
      "0.5178912218555374 0.006531505071813003\n",
      "0.6722986503100894 0.0024926546687910863\n",
      "-0.5858972822637565 0.17068671394945809\n",
      "-0.4276670690418529 0.35996048904966305\n",
      "0.3043627137053384 0.549234264149868\n",
      "-0.2441026554839456 0.18927377510020493\n",
      "0.7653989723098125 -0.14307986094188835\n",
      "-0.1655900391045113 -0.2836299328310836\n",
      "0.03500725978522379 -0.42418000472027884\n",
      "0.7298160526987942 -0.14055007188919524\n",
      "-0.9159014840053787 -1.1771072914662688\n",
      "-0.23338522694850017 -1.868370777292362\n",
      "0.4069491345722176 -2.559634263118455\n",
      "0.8429830964481739 -0.691263485826093\n",
      "0.4130290198471829 -0.31449442370075126\n",
      "-0.6180900792938067 -0.6124407818941047\n",
      "0.6344932312885871 -0.910387140087458\n",
      "0.4719747108546357 -0.2979463581933534\n",
      "0.14264845426142436 0.13307710907276077\n",
      "-0.003411386848886089 -0.10212721531741215\n",
      "-0.5633506711708469 0.11993842390352698\n",
      "-0.22852770783479448 0.01587394765074554\n",
      "-0.2550061552800249 0.12516951696624945\n",
      "-0.5451871589262622 0.13320735758108843\n",
      "-0.8256665131643539 0.1318766332217847\n",
      "0.7015088331163968 -0.09266631645761617\n",
      "0.31128675990487964 0.1152716256567743\n",
      "-0.10564152005694005 0.03613413038609435\n",
      "-0.44089483083519965 0.12243581277771\n",
      "-0.2142199187939855 0.13206980745801256\n",
      "-0.5076807507211409 -2.0425268645779866\n",
      "0.4311217866059971 1.518415905066576\n",
      "0.6743311390582318 -1.8203296698083247\n",
      "0.054174765215945664 -0.3876311338817905\n",
      "0.7088638361889719 -1.9114021256158964\n",
      "-0.30189115261346067 -2.0448366868525656\n",
      "0.5875267713831098 -0.34485302501273557\n",
      "-0.01694883825839555 0.2973725818803056\n",
      "0.10776318730831491 -0.3244540451856303\n",
      "0.9062328465742331 0.05930886355084486\n",
      "-0.4367826099252661 -0.33094776700940903\n",
      "0.750281209890409 -0.3450020607447447\n",
      "0.1817608275634306 1.33687183608926\n",
      "0.8709491896936792 -0.9695657688039416\n",
      "0.50149708869897 1.1812389741410132\n",
      "-0.40789382348040637 0.3262978450054925\n",
      "-0.6647530622373548 1.246187615835673\n",
      "0.8543499108785391 1.3385469555760967\n",
      "-0.013204396389753903 1.960840171180762\n",
      "-0.3569461312409856 2.2165123088236895\n",
      "0.5746473413759987 -0.3411486452044864\n",
      "0.4154728073619707 -1.8493741464139255\n",
      "-0.8619092196358393 -0.31358861639921304\n",
      "-0.8977402498458853 -2.3683988529442126\n",
      "-0.8672628683375474 -0.09485692694730667\n",
      "-0.46163021244307556 -0.10782365466627265\n",
      "-0.9059217286860968 0.016140699049273736\n",
      "-0.34967582332462577 0.08575874292960899\n",
      "-0.6779607904924918 0.016802525864777543\n",
      "-0.7597837770552753 0.11512395794244112\n",
      "0.7779822591415766 -0.5215444326427728\n",
      "0.4373131545069344 -0.591211169367398\n",
      "-0.9890574892988848 0.08947799378838608\n",
      "0.03772023986141093 0.4830916365390844\n",
      "-0.9370140129998237 0.08549997919067742\n",
      "-0.022055043432969823 0.6311163085906436\n",
      "0.4528344527165762 1.551908094984083\n",
      "-0.02011647655161397 0.5765184554823368\n",
      "-0.4355004054787952 5.020796731700229\n",
      "-0.7938317721748185 -5.79822217579974\n"
     ]
    }
   ],
   "source": [
    "for p in n.parameters():  # Get all parameters of the MLP\n",
    "    print(p.data, p.grad)  # Print each parameter's value and gradient\n",
    "# Update parameters using gradient descent\n"
   ]
  },
  {
   "cell_type": "code",
   "execution_count": 39,
   "id": "dd4e3bec",
   "metadata": {},
   "outputs": [],
   "source": [
    "learning_rate = 0.01\n",
    "for p in n.parameters():\n",
    "    p.data -= learning_rate * p.grad  # Update each parameter by subtracting the gradient scaled by the learning rate\n"
   ]
  },
  {
   "cell_type": "code",
   "execution_count": 40,
   "id": "5655b03c",
   "metadata": {},
   "outputs": [
    {
     "data": {
      "text/plain": [
       "Value(data=2.880497928505577)"
      ]
     },
     "execution_count": 40,
     "metadata": {},
     "output_type": "execute_result"
    }
   ],
   "source": [
    "loss"
   ]
  },
  {
   "cell_type": "markdown",
   "id": "7a0d680a",
   "metadata": {},
   "source": [
    "There is some bug in the code above "
   ]
  },
  {
   "cell_type": "code",
   "execution_count": 41,
   "id": "80e02e19",
   "metadata": {},
   "outputs": [],
   "source": [
    "class Value:\n",
    "  \n",
    "  def __init__(self, data, _children=(), _op='', label=''):\n",
    "    self.data = data\n",
    "    self.grad = 0.0\n",
    "    self._backward = lambda: None\n",
    "    self._prev = set(_children)\n",
    "    self._op = _op\n",
    "    self.label = label\n",
    "\n",
    "  def __repr__(self):\n",
    "    return f\"Value(data={self.data})\"\n",
    "  \n",
    "  def __add__(self, other):\n",
    "    other = other if isinstance(other, Value) else Value(other)\n",
    "    out = Value(self.data + other.data, (self, other), '+')\n",
    "    \n",
    "    def _backward():\n",
    "      self.grad += 1.0 * out.grad\n",
    "      other.grad += 1.0 * out.grad\n",
    "    out._backward = _backward\n",
    "    \n",
    "    return out\n",
    "\n",
    "  def __mul__(self, other):\n",
    "    other = other if isinstance(other, Value) else Value(other)\n",
    "    out = Value(self.data * other.data, (self, other), '*')\n",
    "    \n",
    "    def _backward():\n",
    "      self.grad += other.data * out.grad\n",
    "      other.grad += self.data * out.grad\n",
    "    out._backward = _backward\n",
    "      \n",
    "    return out\n",
    "  \n",
    "  def __pow__(self, other):\n",
    "    assert isinstance(other, (int, float)), \"only supporting int/float powers for now\"\n",
    "    out = Value(self.data**other, (self,), f'**{other}')\n",
    "\n",
    "    def _backward():\n",
    "        self.grad += other * (self.data ** (other - 1)) * out.grad\n",
    "    out._backward = _backward\n",
    "\n",
    "    return out\n",
    "  \n",
    "  def __rmul__(self, other): # other * self\n",
    "    return self * other\n",
    "\n",
    "  def __truediv__(self, other): # self / other\n",
    "    return self * other**-1\n",
    "\n",
    "  def __neg__(self): # -self\n",
    "    return self * -1\n",
    "\n",
    "  def __sub__(self, other): # self - other\n",
    "    return self + (-other)\n",
    "\n",
    "  def __radd__(self, other): # other + self\n",
    "    return self + other\n",
    "\n",
    "  def tanh(self):\n",
    "    x = self.data\n",
    "    t = (math.exp(2*x) - 1)/(math.exp(2*x) + 1)\n",
    "    out = Value(t, (self, ), 'tanh')\n",
    "    \n",
    "    def _backward():\n",
    "      self.grad += (1 - t**2) * out.grad\n",
    "    out._backward = _backward\n",
    "    \n",
    "    return out\n",
    "  \n",
    "  def exp(self):\n",
    "    x = self.data\n",
    "    out = Value(math.exp(x), (self, ), 'exp')\n",
    "    \n",
    "    def _backward():\n",
    "      self.grad += out.data * out.grad # NOTE: in the video I incorrectly used = instead of +=. Fixed here.\n",
    "    out._backward = _backward\n",
    "    \n",
    "    return out\n",
    "  \n",
    "  \n",
    "  def backward(self):\n",
    "    \n",
    "    topo = []\n",
    "    visited = set()\n",
    "    def build_topo(v):\n",
    "      if v not in visited:\n",
    "        visited.add(v)\n",
    "        for child in v._prev:\n",
    "          build_topo(child)\n",
    "        topo.append(v)\n",
    "    build_topo(self)\n",
    "    \n",
    "    self.grad = 1.0\n",
    "    for node in reversed(topo):\n",
    "      node._backward()"
   ]
  },
  {
   "cell_type": "code",
   "execution_count": 42,
   "id": "80f81123",
   "metadata": {},
   "outputs": [],
   "source": [
    "from graphviz import Digraph\n",
    "\n",
    "def trace(root):\n",
    "  # builds a set of all nodes and edges in a graph\n",
    "  nodes, edges = set(), set()\n",
    "  def build(v):\n",
    "    if v not in nodes:\n",
    "      nodes.add(v)\n",
    "      for child in v._prev:\n",
    "        edges.add((child, v))\n",
    "        build(child)\n",
    "  build(root)\n",
    "  return nodes, edges\n",
    "\n",
    "def draw_dot(root):\n",
    "  dot = Digraph(format='svg', graph_attr={'rankdir': 'LR'}) # LR = left to right\n",
    "  \n",
    "  nodes, edges = trace(root)\n",
    "  for n in nodes:\n",
    "    uid = str(id(n))\n",
    "    # for any value in the graph, create a rectangular ('record') node for it\n",
    "    dot.node(name = uid, label = \"{ %s | data %.4f | grad %.4f }\" % (n.label, n.data, n.grad), shape='record')\n",
    "    if n._op:\n",
    "      # if this value is a result of some operation, create an op node for it\n",
    "      dot.node(name = uid + n._op, label = n._op)\n",
    "      # and connect this node to it\n",
    "      dot.edge(uid + n._op, uid)\n",
    "\n",
    "  for n1, n2 in edges:\n",
    "    # connect n1 to the op node of n2\n",
    "    dot.edge(str(id(n1)), str(id(n2)) + n2._op)\n",
    "\n",
    "  return dot"
   ]
  },
  {
   "cell_type": "code",
   "execution_count": 43,
   "id": "0b8ea999",
   "metadata": {},
   "outputs": [],
   "source": [
    "class Neuron:\n",
    "  \n",
    "  def __init__(self, nin):\n",
    "    self.w = [Value(random.uniform(-1,1)) for _ in range(nin)]\n",
    "    self.b = Value(random.uniform(-1,1))\n",
    "  \n",
    "  def __call__(self, x):\n",
    "    # w * x + b\n",
    "    act = sum((wi*xi for wi, xi in zip(self.w, x)), self.b)\n",
    "    out = act.tanh()\n",
    "    return out\n",
    "  \n",
    "  def parameters(self):\n",
    "    return self.w + [self.b]\n",
    "\n",
    "class Layer:\n",
    "  \n",
    "  def __init__(self, nin, nout):\n",
    "    self.neurons = [Neuron(nin) for _ in range(nout)]\n",
    "  \n",
    "  def __call__(self, x):\n",
    "    outs = [n(x) for n in self.neurons]\n",
    "    return outs[0] if len(outs) == 1 else outs\n",
    "  \n",
    "  def parameters(self):\n",
    "    return [p for neuron in self.neurons for p in neuron.parameters()]\n",
    "\n",
    "class MLP:\n",
    "  \n",
    "  def __init__(self, nin, nouts):\n",
    "    sz = [nin] + nouts\n",
    "    self.layers = [Layer(sz[i], sz[i+1]) for i in range(len(nouts))]\n",
    "  \n",
    "  def __call__(self, x):\n",
    "    for layer in self.layers:\n",
    "      x = layer(x)\n",
    "    return x\n",
    "  \n",
    "  def parameters(self):\n",
    "    return [p for layer in self.layers for p in layer.parameters()]"
   ]
  },
  {
   "cell_type": "code",
   "execution_count": 44,
   "id": "5f7f0c64",
   "metadata": {},
   "outputs": [
    {
     "data": {
      "text/plain": [
       "Value(data=0.9648839166093298)"
      ]
     },
     "execution_count": 44,
     "metadata": {},
     "output_type": "execute_result"
    }
   ],
   "source": [
    "x = [2.0, 3.0, -1.0]\n",
    "n = MLP(3, [4, 4, 1])\n",
    "n(x)"
   ]
  },
  {
   "cell_type": "code",
   "execution_count": 45,
   "id": "e67a0a99",
   "metadata": {},
   "outputs": [],
   "source": [
    "xs = [\n",
    "  [2.0, 3.0, -1.0],\n",
    "  [3.0, -1.0, 0.5],\n",
    "  [0.5, 1.0, 1.0],\n",
    "  [1.0, 1.0, -1.0],\n",
    "]\n",
    "ys = [1.0, -1.0, -1.0, 1.0] # desired targets"
   ]
  },
  {
   "cell_type": "code",
   "execution_count": 48,
   "id": "584689d9",
   "metadata": {},
   "outputs": [
    {
     "name": "stdout",
     "output_type": "stream",
     "text": [
      "0 0.027607549936140556\n",
      "1 0.025703823818154933\n",
      "2 0.024041760092516837\n",
      "3 0.022578195910621594\n",
      "4 0.021279719331768213\n",
      "5 0.02012003411952238\n",
      "6 0.01907814842431202\n",
      "7 0.018137095952276555\n",
      "8 0.017283012897388584\n",
      "9 0.016504459056418286\n",
      "10 0.01579191035713806\n",
      "11 0.015137374055259716\n",
      "12 0.014534093202274983\n",
      "13 0.013976317050829905\n",
      "14 0.013459120814700617\n",
      "15 0.012978262817475454\n",
      "16 0.012530070276858011\n",
      "17 0.01211134724187548\n",
      "18 0.011719299827109632\n",
      "19 0.011351475068609784\n"
     ]
    }
   ],
   "source": [
    "for k in range(20):\n",
    "  \n",
    "  # forward pass\n",
    "  ypred = [n(x) for x in xs]\n",
    "  loss = sum((yout - ygt)**2 for ygt, yout in zip(ys, ypred))\n",
    "  \n",
    "  # backward pass\n",
    "  for p in n.parameters(): # make sure to reset gradients before backward pass as they accumulate we want to update the parameters based on loss \n",
    "    p.grad = 0.0\n",
    "  loss.backward()\n",
    "  \n",
    "  # update\n",
    "  for p in n.parameters():\n",
    "    p.data += -0.1 * p.grad\n",
    "  \n",
    "  print(k, loss.data)\n",
    "  "
   ]
  },
  {
   "cell_type": "code",
   "execution_count": 47,
   "id": "25e8e2a9",
   "metadata": {},
   "outputs": [
    {
     "data": {
      "text/plain": [
       "[Value(data=0.932969802311823),\n",
       " Value(data=-0.9105281817387143),\n",
       " Value(data=-0.9083844558273361),\n",
       " Value(data=0.9055640134884543)]"
      ]
     },
     "execution_count": 47,
     "metadata": {},
     "output_type": "execute_result"
    }
   ],
   "source": [
    "ypred\n"
   ]
  },
  {
   "cell_type": "code",
   "execution_count": null,
   "id": "0a24e297",
   "metadata": {},
   "outputs": [],
   "source": []
  }
 ],
 "metadata": {
  "kernelspec": {
   "display_name": "Python 3",
   "language": "python",
   "name": "python3"
  },
  "language_info": {
   "codemirror_mode": {
    "name": "ipython",
    "version": 3
   },
   "file_extension": ".py",
   "mimetype": "text/x-python",
   "name": "python",
   "nbconvert_exporter": "python",
   "pygments_lexer": "ipython3",
   "version": "3.12.1"
  }
 },
 "nbformat": 4,
 "nbformat_minor": 5
}
